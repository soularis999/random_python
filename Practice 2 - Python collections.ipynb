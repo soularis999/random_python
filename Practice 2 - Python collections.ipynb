{
 "cells": [
  {
   "cell_type": "code",
   "execution_count": 1,
   "id": "b05b19dc",
   "metadata": {},
   "outputs": [
    {
     "data": {
      "text/plain": [
       "['1896\\tThomas Burke\\tUSA\\t100m men\\n',\n",
       " '1896\\tThomas Curtis\\tUSA\\t110m hurdles men\\n',\n",
       " '1896\\tEdwin Flack\\tAUS\\t1500m men\\n',\n",
       " '1896\\tThomas Burke\\tUSA\\t400m men\\n',\n",
       " '1896\\tEdwin Flack\\tAUS\\t800m men\\n',\n",
       " '1896\\tRobert Garrett\\tUSA\\tdiscus throw men\\n',\n",
       " '1896\\tEllery Clark\\tUSA\\thigh jump men\\n',\n",
       " '1896\\tEllery Clark\\tUSA\\tlong jump men\\n',\n",
       " '1896\\tSpyridon Louis\\tGRE\\tmarathon men\\n',\n",
       " '1896\\tWilliam Welles Hoyt\\tUSA\\tpole vault men\\n']"
      ]
     },
     "execution_count": 1,
     "metadata": {},
     "output_type": "execute_result"
    }
   ],
   "source": [
    "f = open(\"files/goldmedals.txt\")\n",
    "f.readlines()[:10]"
   ]
  },
  {
   "cell_type": "code",
   "execution_count": 2,
   "id": "53df6694",
   "metadata": {},
   "outputs": [],
   "source": [
    "import collections"
   ]
  },
  {
   "cell_type": "code",
   "execution_count": 3,
   "id": "bd8d19c4",
   "metadata": {},
   "outputs": [],
   "source": [
    "Medal = collections.namedtuple('Medal', ['year', 'athlete', 'team', 'event'])"
   ]
  },
  {
   "cell_type": "code",
   "execution_count": 4,
   "id": "a213f2ae",
   "metadata": {},
   "outputs": [
    {
     "name": "stdout",
     "output_type": "stream",
     "text": [
      "Medal(year='1896', athlete='bla', team='USA', event='bla')\n"
     ]
    }
   ],
   "source": [
    "m = Medal('1896', 'bla', 'USA', 'bla')\n",
    "print(m)"
   ]
  },
  {
   "cell_type": "code",
   "execution_count": 6,
   "id": "d308e7c3",
   "metadata": {},
   "outputs": [
    {
     "name": "stdout",
     "output_type": "stream",
     "text": [
      "[Medal(year='1896', athlete='Thomas Burke', team='USA', event='100m men'), Medal(year='1896', athlete='Thomas Curtis', team='USA', event='110m hurdles men'), Medal(year='1896', athlete='Edwin Flack', team='AUS', event='1500m men'), Medal(year='1896', athlete='Thomas Burke', team='USA', event='400m men'), Medal(year='1896', athlete='Edwin Flack', team='AUS', event='800m men'), Medal(year='1896', athlete='Robert Garrett', team='USA', event='discus throw men'), Medal(year='1896', athlete='Ellery Clark', team='USA', event='high jump men'), Medal(year='1896', athlete='Ellery Clark', team='USA', event='long jump men'), Medal(year='1896', athlete='Spyridon Louis', team='GRE', event='marathon men'), Medal(year='1896', athlete='William Welles Hoyt', team='USA', event='pole vault men')]\n"
     ]
    }
   ],
   "source": [
    "medals = [Medal(*line.strip().split('\\t')) for line in open(\"files/goldmedals.txt\")]\n",
    "print(medals[:10])\n"
   ]
  },
  {
   "cell_type": "code",
   "execution_count": 7,
   "id": "296b29ff",
   "metadata": {},
   "outputs": [
    {
     "name": "stdout",
     "output_type": "stream",
     "text": [
      "Counter({'USA': 30, 'JAM': 11, 'KEN': 6, 'GBR': 3, 'GER': 2, 'CRO': 2, 'CHN': 2, 'RSA': 2, 'ETH': 1, 'ESP': 1, 'BRA': 1, 'CAN': 1, 'COL': 1, 'BRN': 1, 'BAH': 1, 'TJK': 1, 'GRE': 1, 'BEL': 1, 'SVK': 1, 'POL': 1})\n",
      "[('USA', 30), ('JAM', 11), ('KEN', 6), ('GBR', 3), ('GER', 2)]\n"
     ]
    }
   ],
   "source": [
    "best = collections.Counter(medal.team for medal in medals if medal.year == str(2016))\n",
    "print(best)\n",
    "print(best.most_common(5))"
   ]
  },
  {
   "cell_type": "code",
   "execution_count": 8,
   "id": "3874afb3",
   "metadata": {},
   "outputs": [
    {
     "data": {
      "text/plain": [
       "<BarContainer object of 20 artists>"
      ]
     },
     "execution_count": 8,
     "metadata": {},
     "output_type": "execute_result"
    },
    {
     "data": {
      "image/png": "[encoded data removed]",
      "text/plain": [
       "<Figure size 640x480 with 1 Axes>"
      ]
     },
     "metadata": {},
     "output_type": "display_data"
    }
   ],
   "source": [
    "the_best = dict(best)\n",
    "\n",
    "import matplotlib.pyplot as pp\n",
    "\n",
    "pp.bar(the_best.keys(), the_best.values())"
   ]
  },
  {
   "cell_type": "markdown",
   "id": "b3185eed",
   "metadata": {},
   "source": [
    "Dequeu object which is a double ended queue"
   ]
  },
  {
   "cell_type": "code",
   "execution_count": 9,
   "id": "795b72fa",
   "metadata": {},
   "outputs": [
    {
     "name": "stdout",
     "output_type": "stream",
     "text": [
      "deque([0, 1, 2, 3, 4, 5, 6, 7, 8, 9])\n"
     ]
    }
   ],
   "source": [
    "dq = collections.deque(range(10))\n",
    "print(dq)"
   ]
  },
  {
   "cell_type": "code",
   "execution_count": 10,
   "id": "1df652b1",
   "metadata": {},
   "outputs": [
    {
     "name": "stdout",
     "output_type": "stream",
     "text": [
      "Inserted  10  popped  0  dq  deque([1, 2, 3, 4, 5, 6, 7, 8, 9, 10])\n",
      "Inserted  11  popped  1  dq  deque([2, 3, 4, 5, 6, 7, 8, 9, 10, 11])\n",
      "Inserted  12  popped  2  dq  deque([3, 4, 5, 6, 7, 8, 9, 10, 11, 12])\n",
      "Inserted  13  popped  3  dq  deque([4, 5, 6, 7, 8, 9, 10, 11, 12, 13])\n",
      "Inserted  14  popped  4  dq  deque([5, 6, 7, 8, 9, 10, 11, 12, 13, 14])\n"
     ]
    }
   ],
   "source": [
    "for i in range(10, 15):\n",
    "    dq.append(i)\n",
    "    v = dq.popleft()\n",
    "    \n",
    "    print(\"Inserted \", i, \" popped \", v, \" dq \", dq)"
   ]
  }
 ],
 "metadata": {
  "kernelspec": {
   "display_name": "Python 3 (ipykernel)",
   "language": "python",
   "name": "python3"
  },
  "language_info": {
   "codemirror_mode": {
    "name": "ipython",
    "version": 3
   },
   "file_extension": ".py",
   "mimetype": "text/x-python",
   "name": "python",
   "nbconvert_exporter": "python",
   "pygments_lexer": "ipython3",
   "version": "3.11.5"
  }
 },
 "nbformat": 4,
 "nbformat_minor": 5
}
