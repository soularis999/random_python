{
 "cells": [
  {
   "cell_type": "code",
   "execution_count": 2,
   "id": "38f98ba9",
   "metadata": {},
   "outputs": [
    {
     "name": "stdout",
     "output_type": "stream",
     "text": [
      "[Medal(year='1896', athlete='Thomas Burke', team='USA', event='100m men'), Medal(year='1896', athlete='Thomas Curtis', team='USA', event='110m hurdles men'), Medal(year='1896', athlete='Edwin Flack', team='AUS', event='1500m men'), Medal(year='1896', athlete='Thomas Burke', team='USA', event='400m men'), Medal(year='1896', athlete='Edwin Flack', team='AUS', event='800m men'), Medal(year='1896', athlete='Robert Garrett', team='USA', event='discus throw men'), Medal(year='1896', athlete='Ellery Clark', team='USA', event='high jump men'), Medal(year='1896', athlete='Ellery Clark', team='USA', event='long jump men'), Medal(year='1896', athlete='Spyridon Louis', team='GRE', event='marathon men'), Medal(year='1896', athlete='William Welles Hoyt', team='USA', event='pole vault men')]\n"
     ]
    }
   ],
   "source": [
    "import collections\n",
    "\n",
    "Medal = collections.namedtuple('Medal', ['year', 'athlete', 'team', 'event'])\n",
    "medals = [Medal(*line.strip().split('\\t')) for line in open(\"files/goldmedals.txt\")]\n",
    "print(medals[:10])"
   ]
  },
  {
   "cell_type": "markdown",
   "id": "d871ab4d",
   "metadata": {},
   "source": [
    "Find four athletes who won the most medals"
   ]
  },
  {
   "cell_type": "code",
   "execution_count": 3,
   "id": "54aa7d01",
   "metadata": {},
   "outputs": [
    {
     "name": "stdout",
     "output_type": "stream",
     "text": [
      "[('Paavo Nurmi', 9), ('Carl Lewis', 9), ('Usain Bolt', 9), ('Ray Ewry', 8)]\n"
     ]
    }
   ],
   "source": [
    "best = collections.Counter(medal.athlete for medal in medals)\n",
    "print(best.most_common(4))"
   ]
  },
  {
   "cell_type": "markdown",
   "id": "09a3b693",
   "metadata": {},
   "source": [
    "Find the athletes who won medals in at least four different events"
   ]
  },
  {
   "cell_type": "code",
   "execution_count": 4,
   "id": "136e4d80",
   "metadata": {},
   "outputs": [
    {
     "data": {
      "text/plain": [
       "[('Alvin Kraenzlein', 4),\n",
       " ('Hannes Kolehmainen', 4),\n",
       " ('Jesse Owens', 4),\n",
       " ('Fanny Blankers-Koen', 4),\n",
       " ('Betty Cuthbert', 4),\n",
       " ('Carl Lewis', 4),\n",
       " ('Ville Ritola', 5),\n",
       " ('Allyson Felix', 5),\n",
       " ('Paavo Nurmi', 6),\n",
       " ('Usain Bolt', 6)]"
      ]
     },
     "execution_count": 4,
     "metadata": {},
     "output_type": "execute_result"
    }
   ],
   "source": [
    "group = {}\n",
    "for medal in medals:\n",
    "    if medal.athlete in group:\n",
    "        group[medal.athlete].add(medal.event)\n",
    "    else:\n",
    "        group[medal.athlete] = {medal.event}\n",
    "\n",
    "filtered = [(key, len(value)) for key, value in group.items() if len(value) >= 4]\n",
    "sorted(filtered, key=lambda tup: tup[1])"
   ]
  }
 ],
 "metadata": {
  "kernelspec": {
   "display_name": "Python 3 (ipykernel)",
   "language": "python",
   "name": "python3"
  },
  "language_info": {
   "codemirror_mode": {
    "name": "ipython",
    "version": 3
   },
   "file_extension": ".py",
   "mimetype": "text/x-python",
   "name": "python",
   "nbconvert_exporter": "python",
   "pygments_lexer": "ipython3",
   "version": "3.11.5"
  }
 },
 "nbformat": 4,
 "nbformat_minor": 5
}
