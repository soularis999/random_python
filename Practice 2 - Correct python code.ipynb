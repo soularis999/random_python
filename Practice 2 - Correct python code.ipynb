{
 "cells": [
  {
   "cell_type": "code",
   "execution_count": 1,
   "id": "0e6d3dfe",
   "metadata": {},
   "outputs": [
    {
     "name": "stdout",
     "output_type": "stream",
     "text": [
      "[Medal(year='1896', athlete='Thomas Burke', team='USA', event='100m men'), Medal(year='1896', athlete='Thomas Curtis', team='USA', event='110m hurdles men'), Medal(year='1896', athlete='Edwin Flack', team='AUS', event='1500m men'), Medal(year='1896', athlete='Thomas Burke', team='USA', event='400m men'), Medal(year='1896', athlete='Edwin Flack', team='AUS', event='800m men'), Medal(year='1896', athlete='Robert Garrett', team='USA', event='discus throw men'), Medal(year='1896', athlete='Ellery Clark', team='USA', event='high jump men'), Medal(year='1896', athlete='Ellery Clark', team='USA', event='long jump men'), Medal(year='1896', athlete='Spyridon Louis', team='GRE', event='marathon men'), Medal(year='1896', athlete='William Welles Hoyt', team='USA', event='pole vault men')]\n"
     ]
    }
   ],
   "source": [
    "import collections\n",
    "\n",
    "Medal = collections.namedtuple('Medal', ['year', 'athlete', 'team', 'event'])\n",
    "medals = [Medal(*line.strip().split('\\t')) for line in open(\"files/goldmedals.txt\")]\n",
    "print(medals[:10])"
   ]
  },
  {
   "cell_type": "code",
   "execution_count": 2,
   "id": "d5e8752b",
   "metadata": {},
   "outputs": [
    {
     "name": "stdout",
     "output_type": "stream",
     "text": [
      "The Zen of Python, by Tim Peters\n",
      "\n",
      "Beautiful is better than ugly.\n",
      "Explicit is better than implicit.\n",
      "Simple is better than complex.\n",
      "Complex is better than complicated.\n",
      "Flat is better than nested.\n",
      "Sparse is better than dense.\n",
      "Readability counts.\n",
      "Special cases aren't special enough to break the rules.\n",
      "Although practicality beats purity.\n",
      "Errors should never pass silently.\n",
      "Unless explicitly silenced.\n",
      "In the face of ambiguity, refuse the temptation to guess.\n",
      "There should be one-- and preferably only one --obvious way to do it.\n",
      "Although that way may not be obvious at first unless you're Dutch.\n",
      "Now is better than never.\n",
      "Although never is often better than *right* now.\n",
      "If the implementation is hard to explain, it's a bad idea.\n",
      "If the implementation is easy to explain, it may be a good idea.\n",
      "Namespaces are one honking great idea -- let's do more of those!\n"
     ]
    }
   ],
   "source": [
    "import this"
   ]
  },
  {
   "cell_type": "code",
   "execution_count": 3,
   "id": "a299d00f",
   "metadata": {},
   "outputs": [
    {
     "name": "stdout",
     "output_type": "stream",
     "text": [
      "['Abel Kiviat', 'Alan Helffrich', 'Albert Lovejoy Gutterson', 'Alfred Carleten Gilbert', 'Alfred Oerter', 'Alfred Oerter', 'Alfred Oerter', 'Alfred Oerter', 'Alfredrick Alphonzo Joyner', 'Alice Marie Coachman', 'Alice Regina Brown', 'Alice Regina Brown', 'Allen Johnson', 'Allen Woodring', 'Allyson Felix', 'Allyson Felix', 'Allyson Felix', 'Allyson Felix', 'Allyson Felix', 'Allyson Felix', 'Alma Wilfred Richards', 'Alonzo C. Babers', 'Alonzo C. Babers', 'Alvin Harrison', 'Alvin Kraenzlein', 'Alvin Kraenzlein', 'Alvin Kraenzlein', 'Alvin Kraenzlein', 'Andre Lamar Phillips', 'Andrea Anderson', 'Andrew Valmon', 'Andrew William Stanfield', 'Andrew William Stanfield', 'Angelo Taylor', 'Angelo Taylor', 'Angelo Taylor', 'Annette Joan Rogers', 'Annette Joan Rogers', 'Anthuan Maybank', 'Antonio Ricardo Mckay', 'Archibald Franklin Williams', 'Archie Hahn', 'Archie Hahn', 'Archie Hahn', 'Ariana Washington', 'Aries Merritt', 'Arlie Alfred Schardt', 'Arman Hall', 'Arnie Robinson', 'Arthur Harold Harnden', 'Arthur Newton', 'Ashton Eaton', 'Ashton Eaton', 'Barbara Ann Ferrell', 'Barbara Pearl Jones', 'Barbara Pearl Jones', 'Benita Fitzgerald-Brown', 'Benjamin Gene Brown', 'Bernard Williams iii', 'Bianca Knight', 'Bob Beamon', 'Brian Lewis', 'Brianna Rollins', 'Brittney Reese', 'Bryan Clay', 'Calvin Smith', 'Carl Lewis', 'Carl Lewis', 'Carl Lewis', 'Carl Lewis', 'Carl Lewis', 'Carl Lewis', 'Carl Lewis', 'Carl Lewis', 'Carl Lewis', 'Carlette D. Guidry-White', 'Carlette D. Guidry-White', 'Carmelita Jeter', 'Catherine Hardy', 'Chandra Danette Cheeseborough', 'Chandra Danette Cheeseborough', 'Charles Austin', 'Charles Decker Reidpath', 'Charles Decker Reidpath', 'Charles Dvorak', 'Charles Edward Borah', 'Charles Edward Greene', 'Charles Everett Dumas', 'Charles Hewes Jr. Moore', 'Charles Joseph Bacon', 'Charles L. Jenkins', 'Charles Lamont Jenkins', 'Charles Lamont Jenkins', 'Charles Paddock', 'Charles Paddock', 'Christian Taylor', 'Christian Taylor', 'Chryste Gaines', 'Clifford Frederick Bourland', 'Commodore Cochrane', 'Cornelius Cooper Johnson', 'Courtney Okolo', 'Crystal Cox', 'Cyrus C. Jr. Young', 'Dalilah Muhammad', 'Dallas Crutcher III Long', \"Dan O'brien\", 'Daniel Everett', 'Daniel Kinsey', 'Darnell Hall', 'Darold Williamson', 'David Curtis Munson', 'David James Wottle', 'David Neville', 'David Verburg', 'Dawn Harper', 'DeeDee Trotter', 'Deedee Trotter', 'Dennis Mitchell', 'Derek Mills', 'Derrick Adkins', 'Derrick Brew', 'Diamond Dixon', 'Donald George Bragg', 'Dorothy Louise Ritter', 'Dwight Phillips', 'Earl Verdelle Young', 'Earle Elmer Meadows', 'Eddie Tolan', 'Eddie Tolan', 'Edgar Allen Ablowich', 'Edith Marie Mcguire', 'Edward Barton Hamm', 'Edward F. Lindberg', 'Edward James Hart', 'Edward Lansing Gordon', 'Edward Tiffin Cooke', 'Edwin Moses', 'Edwin Moses', 'Elizabeth Robinson', 'Elizabeth Robinson', 'Ellery Clark', 'Ellery Clark', 'Emerson Lane Spencer', 'English Gardner', 'Eric Randolph Barnes', 'Esther Jones', 'Evelyn Ashford', 'Evelyn Ashford', 'Evelyn Ashford', 'Evelyn Ashford', 'Evelyn Furtsch', 'Finis Dean Smith', 'Florence Griffith-Joyner', 'Florence Griffith-Joyner', 'Florence Griffith-Joyner', 'Forrest Grady Towns', 'Forrest Smithson', 'Foy Draper', 'Francena McCorory', 'Francena Mccorory', 'Francis C. Irons', 'Francis Hussey', 'Francis Jarvis', 'Frank Charles Shorter', 'Frank Clifford Wykoff', 'Frank Clifford Wykoff', 'Frank Clifford Wykoff', 'Frank Foss', 'Frank Loomis', 'Frederick Delmont Tootell', 'Frederick Kelly', 'Frederick Morgan Hansen', 'Frederick Morgan Taylor', 'Frederick Pitt Alderman', 'Frederick Schule', 'Frederick Vaughn Newhouse', 'Gail Devers', 'Gail Devers', 'Gail Devers', 'George Hetzel Baird', 'George J. Jr. Saling', 'George Lawrence James', 'George Underwood', 'George V. Bonhag', 'Gerald A. Tinker', 'Gerald Howard Ashworth', 'Gil Roberts', 'Glenn Ashby Davis', 'Glenn Ashby Davis', 'Glenn Ashby Davis', 'Glenn Edward Morris', 'Glenn Foster Hardin', 'Gregory Curtis Bell', 'Gwen Jorgensen', 'Gwen Torrence', 'Gwen Torrence', 'Gwen Torrence', 'Harold Marion Osborn', 'Harold Marion Osborn', 'Harold Norwood Ewell', 'Harold Vincent Connolly', 'Harriett Claiborne Bland', 'Harrison Dillard', 'Harrison Dillard', 'Harrison Dillard', 'Harrison Dillard', 'Harry Butch . Reynolds', 'Harry Franklin Porter', 'Harry Hillman', 'Harry Hillman', 'Harry Hillman', 'Harry Stoddard Babcock', 'Harvey Edward Glance', 'Hayes Jones', 'Hector Monroe Dyer', 'Helen Herring Stephens', 'Helen Herring Stephens', 'Henry Argue Russell', 'Henry Carr', 'Henry Carr', 'Henry Louis Scott', 'Herman Ronald Frazier', 'Horace Hallock Brown', 'Horace III Ashenfelter', 'Howard Valentine', 'Inger Miller', 'Ira James Murchison', 'Irving Baxter', 'Irving Baxter', 'Ivan Dresser', 'Ivan William Fuqua', 'J. Oliver Macdonald', 'Jackie Joyner-Kersee', 'Jackie Joyner-Kersee', 'Jackie Joyner-Kersee', 'Jackson Scholz', 'Jackson Scholz', 'James Aloysius Bernard Bausch', 'James Connolly', 'James Edwin Meredith', 'James Edwin Meredith', 'James F. Quinn', 'James Jett', 'James Lightbody', 'James Lightbody', 'James Lightbody', 'James Randel Matson', 'James Ray Hines', 'James Ray Hines', 'Janet Theresa Moreau', 'Jason Rouser', 'Jean Shiley', 'Jeanette Bolden', 'Jearl Miles', 'Jearl Miles', 'Jeff Henderson', 'Jeneba Tarmoh', 'Jenna Prandini', 'Jennifer Suhr', 'Jeremiah Alfred Leconey', 'Jeremy Wariner', 'Jeremy Wariner', 'Jeremy Wariner', 'Jerome Cousins Biffle', 'Jesse Owens', 'Jesse Owens', 'Jesse Owens', 'Jesse Owens', 'Jesse William Mashburn', 'Jim Thorpe', 'Jim Thorpe', 'Joan Benoit', 'Joanna Hayes', 'John Baxter Taylor', 'John Franklin Anderson', 'John H. Kuck', 'John Jesus Flanagan', 'John Jesus Flanagan', 'John Jesus Flanagan', 'John Joseph Hayes', 'John Lloyd Yerman', 'John Nathaniel Cartmell', 'John Wesley Jones', 'John Youie Woodruff', 'Jon Drummond', 'Joseph Nathaniel Jr. Deloach', 'Justin Gatlin', 'Karl De Witt Warner', 'Kelly Willie', 'Kenneth Brokenburr', 'Kenny Harrison', 'Kerron Clement', 'Keshia Baker', 'Kevin Bernard Robinzine', 'Kevin Curtis Young', 'Kim Graham', 'Kyle Clemons', 'LaShawn Merritt', 'LaShawn Merritt', 'LaTasha Colander', 'Lamont Smith', 'Lashawn Merritt', 'Lauryn Williams', 'Lawrence J. Black', 'Leamon King', 'Lee Barnes', 'Lee Calhoun', 'Lee Calhoun', 'Lee Edward Evans', 'Lee Edward Evans', 'Lemuel Clarence Houser', 'Lemuel Clarence Houser', 'Lemuel Clarence Houser', 'Leo Joseph Sexton', 'Leroy Burrell', 'Lillian Copeland', 'Lillie Mae Leatherwood-King', 'Lindy Remigino', 'Lindy Remigino', 'Linetta Wilson', 'Loren Murchison', 'Loren Murchison', 'Lorenzo Christopher Wright', 'Louis Alfred Clarke', 'Louis Woodard III Jones', 'Lucinda Williams', 'Madeline Manning-Jackson', 'Mae Heriwentha Faggs', 'Maicel Malone', 'Malcolm Maurice Wilkins', 'Malvin Groston Whitfield', 'Malvin Groston Whitfield', 'Malvin Groston Whitfield', 'Margaret Johnson Bailes', 'Martha B. Hudson', 'Martin Emmett Toppino', 'Martin Sheridan', 'Martin Sheridan', 'Martin Sheridan', 'Mary Louise Carew', 'Mary Wineberg', 'Matthew Centrowitz', 'Matthew J. Mcgrath', 'Maurice Greene', 'Maurice Greene', 'Max Emmerich', 'Maxwell Lander Parks', 'Maxwell W.Maxey Long', 'Melvin Emery Patton', 'Melvin Emery Patton', 'Melvin Jr. Pender', 'Melvin Sheppard', 'Melvin Sheppard', 'Melvin Sheppard', 'Melvin Sheppard', 'Meyer Prinstein', 'Meyer Prinstein', 'Meyer Prinstein', 'Michael D. Stulce', 'Michael Denny Larrabee', 'Michael Denny Larrabee', 'Michael Johnson', 'Michael Johnson', 'Michael Johnson', 'Michael Johnson', 'Michael Marsh', 'Michael Marsh', 'Michelle Carter', 'Michelle Finn', 'Mike Conley', 'Mildred Didrikson', 'Mildred Didrikson', 'Mildred Louise Mcdaniel', 'Mildrette Netter', 'Millard Frank Jr. Hampton', 'Milton Gray Campbell', 'Monique Henderson', 'Monique Henderson', 'Monique Hennagan', 'Monique Hennagan', 'Morolake Akinosun', 'Morris Kirksey', 'Moushaumi Robinson', 'Natasha Hastings', 'Nick Hysong', 'Norman Taber', 'Ollan Conley Cassell', 'Otis Crandall Davis', 'Otis Crandall Davis', 'Otis Harris', 'Otis Paul Drayton', 'Owen Guinn Smith', 'Patrick Mcdonald', 'Patrick Mcdonald', 'Patrick Ryan', 'Paul Harry Pilgrim', 'Phyllis Francis', 'Platt Adams', 'Quincy Watts', 'Quincy Watts', 'Rafer Lewis Johnson', 'Ralph Craig', 'Ralph Craig', 'Ralph Harold Boston', 'Ralph Metcalfe', 'Ralph Rose', 'Ralph Rose', 'Ralph Rose', 'Randel Luvelle Williams', 'Ray Ewry', 'Ray Ewry', 'Ray Ewry', 'Ray Ewry', 'Ray Ewry', 'Ray Ewry', 'Ray Ewry', 'Ray Ewry', 'Raymond Armstead', 'Raymond James Barbuti', 'Raymond James Barbuti', 'Richard Douglas Fosbury', 'Richard Sheldon', 'Richard Vaughn Stebbins', 'Richmond Landon', 'Robert Allan Kiesel', 'Robert Garrett', 'Robert Garrett', 'Robert Hayes', 'Robert Hayes', 'Robert Joseph Morrow', 'Robert Joseph Morrow', 'Robert Joseph Morrow', 'Robert Keyser Schul', 'Robert Lloyd Seagren', 'Robert Mathias', 'Robert Mathias', 'Robert Richards', 'Robert Richards', 'Robert Taylor', 'Robert Wade King', 'Rochelle Stevens', 'Rodney Jr. Milburn', 'Roger Kingdom', 'Roger Kingdom', 'Ronald James Brown', 'Ronald John III Freeman', 'Ronald Ray Smith', 'Roy Braxton Cochran', 'Roy Braxton Cochran', 'Ryan Crouser', 'Sabin William Carr', 'Samuel Jones', 'Samuel Louis Graddy', 'Sanya Richards', 'Sanya Richards', 'Sanya Richards-Ross', 'Sanya Richards-Ross', 'Shawn Crawford', 'Sheila Echols', 'Sherryl Frances Howard', 'Simeon Garland Iness', 'Stacy Dragila', 'Stephanie Brown trafton', 'Steve Lewis', 'Steve Lewis', 'Steve Lewis', 'Steven Earl Riddick', 'Sunder L. Nix', 'Taylor Ellis-Watson', 'Tell Schirnding Berna', 'Thomas Burke', 'Thomas Burke', 'Thomas C. Smith', 'Thomas Curtis', 'Thomas Hicks', 'Thomas William Courtney', 'Thomas William Courtney', 'Tianna Bartoletta', 'Tianna Bartoletta', 'Tianna Madison', 'Tim Montgomery', 'Timothy Mack', 'Tony Mcquay', 'Tori Bowie', 'Ulis C. Williams', 'Valerie Ann Brisco-Hooks', 'Valerie Ann Brisco-Hooks', 'Valerie Ann Brisco-Hooks', 'Vincent Edward Matthews', 'Vincent Edward Matthews', 'Walter B. John Tewksbury', 'Walter B. John Tewksbury', 'Walter Francis Davis', 'Walter Thane Baker', 'Warren (Rex) Jay Cawley', 'Wilbur Marvin Thompson', 'Wilhelmina Von bremen', 'William Anthony Toomey', 'William Arthur Carr', 'William Arthur Carr', 'William Bruce Jenner', 'William De Hart Hubbard', 'William Frank Hamilton', 'William Franklin III Porter', 'William Henry Nieder', 'William Kenneth Carpenter', 'William Mills', 'William Patrick Jr. O', 'William Patrick Jr. O', 'William Samuel Steele', 'William Stephenson', 'William Waring Miller', 'William Welles Hoyt', 'Willie Davenport', 'Wilma Rudolph', 'Wilma Rudolph', 'Wilma Rudolph', 'Wyomia Tyus', 'Wyomia Tyus', 'Wyomia Tyus']\n",
      "{'Mildred Louise Mcdaniel', 'Frank Charles Shorter', 'Frank Clifford Wykoff', 'Jon Drummond', 'William Mills', 'John Lloyd Yerman', 'Charles Paddock', 'Ellery Clark', 'Carmelita Jeter', 'Mary Louise Carew', 'Leo Joseph Sexton', 'LaTasha Colander', 'Moushaumi Robinson', 'Milton Gray Campbell', 'Sanya Richards-Ross', 'Frederick Pitt Alderman', 'Harry Hillman', 'Irving Baxter', 'Mike Conley', 'Lucinda Williams', 'Alfred Carleten Gilbert', 'Tim Montgomery', 'Daniel Kinsey', 'Esther Jones', 'Wilhelmina Von bremen', 'Gail Devers', 'Michelle Finn', 'Derek Mills', 'Kevin Bernard Robinzine', 'Leamon King', 'Steve Lewis', 'Thomas William Courtney', 'Loren Murchison', 'Inger Miller', 'William Stephenson', 'Robert Mathias', 'James Ray Hines', 'Daniel Everett', 'John Joseph Hayes', 'Gregory Curtis Bell', 'Lillie Mae Leatherwood-King', 'Andre Lamar Phillips', 'Thomas C. Smith', 'Alice Regina Brown', 'Commodore Cochrane', 'Max Emmerich', 'Martin Sheridan', 'Archibald Franklin Williams', 'Jesse William Mashburn', 'James Jett', 'Charles Dvorak', 'Steven Earl Riddick', 'Harry Stoddard Babcock', 'Monique Henderson', 'Michelle Carter', 'Albert Lovejoy Gutterson', 'Charles Joseph Bacon', 'Allen Woodring', 'Francis Hussey', 'Monique Hennagan', 'Arman Hall', 'Gwen Torrence', 'Arlie Alfred Schardt', 'Jesse Owens', 'Simeon Garland Iness', 'Lemuel Clarence Houser', 'Robert Richards', 'Otis Paul Drayton', 'William Henry Nieder', 'Kelly Willie', 'Dalilah Muhammad', 'Louis Woodard III Jones', 'Ivan Dresser', 'Samuel Louis Graddy', 'LaShawn Merritt', 'Walter B. John Tewksbury', 'Andrew Valmon', 'David James Wottle', 'Bianca Knight', 'Robert Keyser Schul', 'Gil Roberts', 'Jean Shiley', 'Ralph Metcalfe', 'Cornelius Cooper Johnson', 'Edwin Moses', 'J. Oliver Macdonald', 'Francena Mccorory', 'Michael Denny Larrabee', 'Gerald A. Tinker', 'Frank Loomis', 'Carlette D. Guidry-White', 'William Frank Hamilton', 'William Anthony Toomey', 'John H. Kuck', 'Paul Harry Pilgrim', 'Alfredrick Alphonzo Joyner', 'William Samuel Steele', 'Morolake Akinosun', 'Robert Garrett', 'Michael Marsh', 'William Waring Miller', 'Patrick Mcdonald', 'Annette Joan Rogers', 'Francis C. Irons', 'Robert Wade King', 'William Welles Hoyt', 'Otis Crandall Davis', 'Ronald Ray Smith', 'James Randel Matson', 'Harvey Edward Glance', 'Forrest Smithson', 'Dorothy Louise Ritter', 'Christian Taylor', 'Raymond James Barbuti', 'Linetta Wilson', 'William Kenneth Carpenter', 'Tony Mcquay', 'Emerson Lane Spencer', 'Alvin Harrison', 'Kenny Harrison', 'Ryan Crouser', 'Charles Decker Reidpath', 'Charles Austin', 'Diamond Dixon', 'Jeremiah Alfred Leconey', 'Jeremy Wariner', 'Harriett Claiborne Bland', 'Ivan William Fuqua', 'Tell Schirnding Berna', 'Charles Everett Dumas', 'Jackson Scholz', 'Richard Sheldon', 'Thomas Curtis', 'Platt Adams', 'John Youie Woodruff', 'Janet Theresa Moreau', 'Arthur Newton', 'Morris Kirksey', 'Walter Thane Baker', 'George V. Bonhag', 'Gerald Howard Ashworth', 'Quincy Watts', 'Ronald James Brown', 'Wilma Rudolph', 'Kim Graham', 'Valerie Ann Brisco-Hooks', 'Brittney Reese', 'Charles Edward Borah', 'Richard Vaughn Stebbins', 'Bob Beamon', 'Charles Edward Greene', 'Edward Tiffin Cooke', 'Darold Williamson', 'Malvin Groston Whitfield', 'Frederick Delmont Tootell', 'Arthur Harold Harnden', 'Arnie Robinson', 'Meyer Prinstein', 'Eddie Tolan', 'Glenn Ashby Davis', 'Horace III Ashenfelter', 'Brian Lewis', 'James Lightbody', 'English Gardner', 'William Bruce Jenner', 'Matthew Centrowitz', 'Hayes Jones', 'Roger Kingdom', 'Finis Dean Smith', 'Nick Hysong', 'Aries Merritt', 'Robert Taylor', 'Mildrette Netter', 'Frederick Vaughn Newhouse', 'Eric Randolph Barnes', 'Rochelle Stevens', 'Lorenzo Christopher Wright', 'Richard Douglas Fosbury', 'Francis Jarvis', 'Alice Marie Coachman', 'Dawn Harper', 'Donald George Bragg', 'Lamont Smith', 'Alvin Kraenzlein', 'Ashton Eaton', 'Patrick Ryan', 'Thomas Hicks', 'Margaret Johnson Bailes', 'Martha B. Hudson', 'Stephanie Brown trafton', 'Helen Herring Stephens', 'Carl Lewis', 'Crystal Cox', 'James Edwin Meredith', 'John Jesus Flanagan', 'Sherryl Frances Howard', 'Jearl Miles', 'Bryan Clay', 'Dallas Crutcher III Long', 'Foy Draper', 'Phyllis Francis', 'Ralph Craig', 'Henry Carr', 'John Baxter Taylor', 'Frederick Kelly', 'Sanya Richards', 'Karl De Witt Warner', 'Ariana Washington', 'Ira James Murchison', 'Timothy Mack', 'David Curtis Munson', 'George J. Jr. Saling', 'Alonzo C. Babers', 'Charles Hewes Jr. Moore', 'Melvin Sheppard', 'Glenn Foster Hardin', 'Ollan Conley Cassell', 'Derrick Adkins', 'Kyle Clemons', 'Anthuan Maybank', 'Kerron Clement', 'Sheila Echols', 'Randel Luvelle Williams', 'David Verburg', 'Dennis Mitchell', 'Charles L. Jenkins', 'Mildred Didrikson', 'Jackie Joyner-Kersee', 'Robert Hayes', 'Alma Wilfred Richards', 'Edward Lansing Gordon', 'Keshia Baker', 'Calvin Smith', 'Evelyn Furtsch', 'James F. Quinn', 'Ronald John III Freeman', 'George Lawrence James', 'Jim Thorpe', 'Sunder L. Nix', 'Melvin Emery Patton', 'Samuel Jones', 'Ulis C. Williams', 'William Franklin III Porter', 'Roy Braxton Cochran', 'Rodney Jr. Milburn', 'Willie Davenport', 'Henry Argue Russell', 'William De Hart Hubbard', 'John Franklin Anderson', 'Evelyn Ashford', 'Walter Francis Davis', 'Mae Heriwentha Faggs', 'Francena McCorory', 'Frederick Morgan Hansen', 'Ray Ewry', 'Charles Lamont Jenkins', 'Courtney Okolo', 'Harold Marion Osborn', 'Richmond Landon', 'Derrick Brew', 'Horace Hallock Brown', 'Jeff Henderson', 'Brianna Rollins', 'Elizabeth Robinson', 'Andrew William Stanfield', 'Chandra Danette Cheeseborough', 'Edward F. Lindberg', 'Joanna Hayes', 'William Arthur Carr', 'Harold Norwood Ewell', 'Barbara Ann Ferrell', 'Herman Ronald Frazier', 'Lee Calhoun', 'Florence Griffith-Joyner', 'Maurice Greene', 'Matthew J. Mcgrath', 'Tianna Bartoletta', 'Robert Allan Kiesel', 'Maicel Malone', 'Ralph Harold Boston', 'Kevin Curtis Young', 'Michael D. Stulce', 'Alfred Oerter', 'Jeneba Tarmoh', 'Jerome Cousins Biffle', 'Lee Barnes', 'Allyson Felix', 'John Wesley Jones', 'Andrea Anderson', 'Chryste Gaines', 'Bernard Williams iii', 'Hector Monroe Dyer', 'Howard Valentine', 'Stacy Dragila', 'Kenneth Brokenburr', 'Robert Lloyd Seagren', 'Joseph Nathaniel Jr. Deloach', 'Cyrus C. Jr. Young', 'Ralph Rose', 'Allen Johnson', 'Henry Louis Scott', 'Lillian Copeland', 'Maxwell W.Maxey Long', 'James Aloysius Bernard Bausch', 'Forrest Grady Towns', 'Clifford Frederick Bourland', 'Frank Foss', 'Benita Fitzgerald-Brown', 'Abel Kiviat', 'Harold Vincent Connolly', 'Vincent Edward Matthews', 'Alan Helffrich', 'Lauryn Williams', 'Taylor Ellis-Watson', 'Maxwell Lander Parks', 'Norman Taber', 'Jeanette Bolden', 'Tianna Madison', 'Rafer Lewis Johnson', 'Justin Gatlin', 'Sabin William Carr', 'Robert Joseph Morrow', 'Benjamin Gene Brown', 'Edward Barton Hamm', 'Leroy Burrell', 'Melvin Jr. Pender', 'Mary Wineberg', 'David Neville', 'Harrison Dillard', 'Dwight Phillips', 'Archie Hahn', 'Lee Edward Evans', 'Barbara Pearl Jones', 'Earl Verdelle Young', 'Angelo Taylor', 'Louis Alfred Clarke', 'Glenn Edward Morris', 'Edward James Hart', 'Lawrence J. Black', 'Jennifer Suhr', 'Harry Butch . Reynolds', 'James Connolly', 'Darnell Hall', 'Antonio Ricardo Mckay', 'Catherine Hardy', 'Shawn Crawford', 'Thomas Burke', 'George Hetzel Baird', 'Lindy Remigino', 'Otis Harris', 'John Nathaniel Cartmell', 'Warren (Rex) Jay Cawley', 'Lashawn Merritt', 'Michael Johnson', 'DeeDee Trotter', 'Raymond Armstead', 'Gwen Jorgensen', 'Wilbur Marvin Thompson', 'George Underwood', 'Natasha Hastings', 'Harry Franklin Porter', 'Madeline Manning-Jackson', \"Dan O'brien\", 'Deedee Trotter', 'Wyomia Tyus', 'Frederick Schule', 'Earle Elmer Meadows', 'Jenna Prandini', 'Frederick Morgan Taylor', 'Millard Frank Jr. Hampton', 'Edgar Allen Ablowich', 'Malcolm Maurice Wilkins', 'Tori Bowie', 'Martin Emmett Toppino', 'Edith Marie Mcguire', 'Owen Guinn Smith', 'Joan Benoit', 'Jason Rouser', 'William Patrick Jr. O'}\n",
      "521 379\n"
     ]
    }
   ],
   "source": [
    "# built in sorted list\n",
    "sl = sorted(medal.athlete for medal in medals if medal.team == \"USA\")\n",
    "print(sl)\n",
    "\n",
    "sls = set(sl)\n",
    "print(sls)\n",
    "\n",
    "print(len(sl), len(sls))"
   ]
  },
  {
   "cell_type": "code",
   "execution_count": 4,
   "id": "7c65aec3",
   "metadata": {},
   "outputs": [
    {
     "data": {
      "text/plain": [
       "{'Aleen Bailey',\n",
       " 'Aleksandr Aksinin',\n",
       " 'Aleksandra Fedoriva',\n",
       " 'Alice Regina Brown',\n",
       " 'Allan Wells',\n",
       " 'Allyson Felix',\n",
       " 'Andrei Prokofiev',\n",
       " 'Andrew William Stanfield',\n",
       " 'Annegret Richter-Irrgang',\n",
       " 'Annelie Ehrhardt',\n",
       " 'Annette Joan Rogers',\n",
       " 'Archie Hahn',\n",
       " 'Ariana Washington',\n",
       " 'Armin Hary',\n",
       " 'Asafa Powell',\n",
       " 'Barbara Ann Ferrell',\n",
       " 'Barbara Pearl Jones',\n",
       " 'Benita Fitzgerald-Brown',\n",
       " 'Bernard Williams iii',\n",
       " 'Bernd Cullmann',\n",
       " 'Betty Cuthbert',\n",
       " 'Beverly Mcdonald',\n",
       " 'Bianca Knight',\n",
       " 'Brian Lewis',\n",
       " 'Brianna Rollins',\n",
       " 'Bruny Surin',\n",
       " 'Bärbel Eckert-Wöckel',\n",
       " 'Calvin Smith',\n",
       " 'Carl Lewis',\n",
       " 'Carla Bodendorf',\n",
       " 'Carlette D. Guidry-White',\n",
       " 'Carlton Chambers',\n",
       " 'Carmelita Jeter',\n",
       " 'Catherine Hardy',\n",
       " 'Chandra Danette Cheeseborough',\n",
       " 'Chandra Sturrup',\n",
       " 'Charles Edward Borah',\n",
       " 'Charles Edward Greene',\n",
       " 'Charles Paddock',\n",
       " 'Christiane Krause',\n",
       " 'Chryste Gaines',\n",
       " 'Darren Campbell',\n",
       " 'David Henry Jacobs',\n",
       " 'Dawn Harper',\n",
       " 'Debbie Ferguson-Mckenzie',\n",
       " 'Dennis Mitchell',\n",
       " 'Donovan Bailey',\n",
       " 'Eddie Tolan',\n",
       " 'Edward James Hart',\n",
       " 'Elaine Thompson',\n",
       " 'Eldice Lewis',\n",
       " 'Elizabeth Robinson',\n",
       " 'English Gardner',\n",
       " 'Esther Jones',\n",
       " 'Ethel M. Smith',\n",
       " 'Evelyn Ashford',\n",
       " 'Evelyn Furtsch',\n",
       " 'Evgeniya Polyakova',\n",
       " 'Ewa Klobukowska',\n",
       " 'Fanny Blankers-Koen',\n",
       " 'Fanny Rosenfeld',\n",
       " 'Finis Dean Smith',\n",
       " 'Florence Griffith-Joyner',\n",
       " 'Fluer Northey Mellor-Wenham',\n",
       " 'Foy Draper',\n",
       " 'Francis Hussey',\n",
       " 'Francis Jarvis',\n",
       " 'Frank Clifford Wykoff',\n",
       " 'Gail Devers',\n",
       " 'Gerald A. Tinker',\n",
       " 'Gerald Howard Ashworth',\n",
       " 'Gerda Johanna Marie Van der kade-Koudijs',\n",
       " 'Glenroy Gilbert',\n",
       " 'Gwen Torrence',\n",
       " 'Halina Herrmann-Gorecka-Richter',\n",
       " 'Harold Abrahams',\n",
       " 'Harold Norwood Ewell',\n",
       " 'Harriett Claiborne Bland',\n",
       " 'Harrison Dillard',\n",
       " 'Harvey Edward Glance',\n",
       " 'Hasely Crawford',\n",
       " 'Hector Monroe Dyer',\n",
       " 'Heidemarie Rosendahl',\n",
       " 'Helen Herring Stephens',\n",
       " 'Henry Argue Russell',\n",
       " 'Henry Maitland Mackintosh',\n",
       " 'Inger Miller',\n",
       " 'Ingrid Auerswald-Lange',\n",
       " 'Ingrid Becker-Mickler',\n",
       " 'Ira James Murchison',\n",
       " 'Irena Szewinska',\n",
       " 'Jackson Scholz',\n",
       " 'James F. Quinn',\n",
       " 'James Jett',\n",
       " 'James Ray Hines',\n",
       " 'Janet Theresa Moreau',\n",
       " 'Jason Gardener',\n",
       " 'Jean Thompson',\n",
       " 'Jeanette Bolden',\n",
       " 'Jeannette Josephina Maria Witziers-Timmer',\n",
       " 'Jeneba Tarmoh',\n",
       " 'Jenna Prandini',\n",
       " 'Jeremiah Alfred Leconey',\n",
       " 'Jesse Owens',\n",
       " 'Jevaughn Minzie',\n",
       " 'Joanna Hayes',\n",
       " 'Johanna Schaller-Klier',\n",
       " 'John Wesley Jones',\n",
       " 'Jon Drummond',\n",
       " 'Justin Gatlin',\n",
       " 'Kemar Bailey-Cole',\n",
       " 'Kenneth Brokenburr',\n",
       " 'Lauryn Williams',\n",
       " 'Lawrence J. Black',\n",
       " 'Leamon King',\n",
       " 'Leroy Burrell',\n",
       " 'Lindy Remigino',\n",
       " 'Linford Christie',\n",
       " 'Liudmila Kondratieva',\n",
       " 'Loren Murchison',\n",
       " 'Lorenzo Christopher Wright',\n",
       " 'Louis Alfred Clarke',\n",
       " 'Lucinda Williams',\n",
       " 'Ludmila Engquist',\n",
       " 'Mae Heriwentha Faggs',\n",
       " 'Margaret Johnson Bailes',\n",
       " 'Marjorie Jackson',\n",
       " 'Mark Lewis-Francis',\n",
       " 'Marlies Oelsner-Göhr',\n",
       " 'Marlon Devonish',\n",
       " 'Martha B. Hudson',\n",
       " 'Martin Emmett Toppino',\n",
       " 'Martin Lauer',\n",
       " 'Mary Louise Carew',\n",
       " 'Maurice Greene',\n",
       " 'Melvin Emery Patton',\n",
       " 'Melvin Jr. Pender',\n",
       " 'Michael Frater',\n",
       " 'Michael Marsh',\n",
       " 'Michelle Finn',\n",
       " 'Mildrette Netter',\n",
       " 'Millard Frank Jr. Hampton',\n",
       " 'Morolake Akinosun',\n",
       " 'Morris Kirksey',\n",
       " 'Myrtle Alice Cook',\n",
       " 'Nesta Carter',\n",
       " 'Nickel Ashmeade',\n",
       " 'Nikolai Sidorov',\n",
       " 'Norma Wilson Crooker-Fleming',\n",
       " 'Olga Shishigina',\n",
       " 'Otis Paul Drayton',\n",
       " 'Paraskevi Voula Patoulidou',\n",
       " 'Pauline Elaine Davis',\n",
       " 'Percy Williams',\n",
       " 'Ralph Craig',\n",
       " 'Ralph Metcalfe',\n",
       " 'Reginald Walker',\n",
       " 'Renate Stecher',\n",
       " 'Richard Vaughn Stebbins',\n",
       " 'Robert Allan Kiesel',\n",
       " 'Robert Esmie',\n",
       " 'Robert Hayes',\n",
       " 'Robert Joseph Morrow',\n",
       " 'Robert Taylor',\n",
       " 'Romy Müller',\n",
       " 'Ronald James Brown',\n",
       " 'Ronald Ray Smith',\n",
       " 'Sally Pearson',\n",
       " 'Samuel Louis Graddy',\n",
       " 'Sevatheda Fynes',\n",
       " 'Sheila Echols',\n",
       " 'Shelly-Ann Fraser',\n",
       " 'Shelly-Ann Fraser-Pryce',\n",
       " 'Sherone Simpson',\n",
       " 'Shirley Strickland-De La Hunty',\n",
       " 'Stanislawa Walasiewicz',\n",
       " 'Steven Earl Riddick',\n",
       " 'Tanya Lawrence',\n",
       " 'Teresa Barbara Wieczorek-Cieply',\n",
       " 'Thomas Burke',\n",
       " 'Tianna Bartoletta',\n",
       " 'Tianna Madison',\n",
       " 'Tim Montgomery',\n",
       " 'Tori Bowie',\n",
       " 'Usain Bolt',\n",
       " 'Valery Borzov',\n",
       " 'Vera Komisova',\n",
       " 'Veronica Campbell-Brown',\n",
       " \"Victor Henry Augustus D'arcy\",\n",
       " 'Viktor Bryzgin',\n",
       " 'Vitaly Savin',\n",
       " 'Vladimir Krylov',\n",
       " 'Vladimir Muravyov',\n",
       " 'Walter Mahlendorf',\n",
       " 'Walter Thane Baker',\n",
       " 'Wilhelmina Von bremen',\n",
       " 'William Applegarth',\n",
       " 'Wilma Rudolph',\n",
       " 'Wyomia Tyus',\n",
       " 'Xenia Stad-De jong',\n",
       " 'Yohan Blake',\n",
       " 'Yordanka Donkova',\n",
       " 'Yulia Gushchina',\n",
       " 'Yuliya Chermoshanskaya',\n",
       " 'Yuliya Nesterenko'}"
      ]
     },
     "execution_count": 4,
     "metadata": {},
     "output_type": "execute_result"
    }
   ],
   "source": [
    "# boolean logic around sets!!!\n",
    "\n",
    "winners_100m = {medal.athlete for medal in medals if \"100m\" in medal.event}\n",
    "winners_200m = {medal.athlete for medal in medals if \"200m\" in medal.event}\n",
    "\n",
    "winners_100m"
   ]
  },
  {
   "cell_type": "code",
   "execution_count": 5,
   "id": "3be9966a",
   "metadata": {},
   "outputs": [
    {
     "data": {
      "text/plain": [
       "26"
      ]
     },
     "execution_count": 5,
     "metadata": {},
     "output_type": "execute_result"
    }
   ],
   "source": [
    "# both places - intersect\n",
    "winners_both = winners_100m & winners_200m\n",
    "winners_both\n",
    "len(winners_both)"
   ]
  },
  {
   "cell_type": "code",
   "execution_count": 6,
   "id": "3209248c",
   "metadata": {},
   "outputs": [
    {
     "data": {
      "text/plain": [
       "223"
      ]
     },
     "execution_count": 6,
     "metadata": {},
     "output_type": "execute_result"
    }
   ],
   "source": [
    "# union\n",
    "winners_either = winners_100m | winners_200m\n",
    "winners_either\n",
    "len(winners_either)"
   ]
  },
  {
   "cell_type": "code",
   "execution_count": 7,
   "id": "2a11d7f7",
   "metadata": {},
   "outputs": [
    {
     "data": {
      "text/plain": [
       "18"
      ]
     },
     "execution_count": 7,
     "metadata": {},
     "output_type": "execute_result"
    }
   ],
   "source": [
    "# one but not another\n",
    "winners_200m_only = winners_200m - winners_100m\n",
    "winners_200m_only\n",
    "len(winners_200m_only)"
   ]
  },
  {
   "cell_type": "code",
   "execution_count": 8,
   "id": "03ca7c9f",
   "metadata": {},
   "outputs": [
    {
     "name": "stdout",
     "output_type": "stream",
     "text": [
      "In 1896, THOMAS BURKE won for USA.\n",
      "In 1900, MAXWELL W.MAXEY LONG won for USA.\n",
      "In 1900, WALTER B. JOHN TEWKSBURY won for USA.\n",
      "In 1904, HARRY HILLMAN won for USA.\n",
      "In 1904, HARRY HILLMAN won for USA.\n",
      "In 1908, WYNDHAM HALSWELLE won for GBR.\n",
      "In 1908, CHARLES JOSEPH BACON won for USA.\n",
      "In 1912, CHARLES DECKER REIDPATH won for USA.\n",
      "In 1920, BEVIL GORDON D'URBAN RUDD won for RSA.\n",
      "In 1920, FRANK LOOMIS won for USA.\n",
      "In 1924, ERIC HENRY LIDDELL won for GBR.\n",
      "In 1924, FREDERICK MORGAN TAYLOR won for USA.\n",
      "In 1928, RAYMOND JAMES BARBUTI won for USA.\n",
      "In 1928, DAVID GEORGE BURGHLEY won for GBR.\n",
      "In 1932, WILLIAM ARTHUR CARR won for USA.\n",
      "In 1932, ROBERT MORTON NEWBURGH TISDALL won for IRL.\n",
      "In 1936, ARCHIBALD FRANKLIN WILLIAMS won for USA.\n",
      "In 1936, GLENN FOSTER HARDIN won for USA.\n",
      "In 1948, ARTHUR WINT won for JAM.\n",
      "In 1948, ROY BRAXTON COCHRAN won for USA.\n",
      "In 1952, VINCENT GEORGE RHODEN won for JAM.\n",
      "In 1952, CHARLES HEWES JR. MOORE won for USA.\n",
      "In 1956, CHARLES LAMONT JENKINS won for USA.\n",
      "In 1956, GLENN ASHBY DAVIS won for USA.\n",
      "In 1960, OTIS CRANDALL DAVIS won for USA.\n",
      "In 1960, GLENN ASHBY DAVIS won for USA.\n",
      "In 1964, MICHAEL DENNY LARRABEE won for USA.\n",
      "In 1964, BETTY CUTHBERT won for AUS.\n",
      "In 1964, WARREN (REX) JAY CAWLEY won for USA.\n",
      "In 1968, LEE EDWARD EVANS won for USA.\n",
      "In 1968, COLETTE BESSON won for FRA.\n",
      "In 1968, DAVID PETER HEMERY won for GBR.\n",
      "In 1972, VINCENT EDWARD MATTHEWS won for USA.\n",
      "In 1972, MONIKA ZEHRT won for GDR.\n",
      "In 1972, JOHN AKII-BUA won for UGA.\n",
      "In 1976, ALBERTO JUANTORENA won for CUB.\n",
      "In 1976, IRENA SZEWINSKA won for POL.\n",
      "In 1976, EDWIN MOSES won for USA.\n",
      "In 1980, VIKTOR MARKIN won for URS.\n",
      "In 1980, MARITA KOCH won for GDR.\n",
      "In 1980, VOLKER BECK won for GDR.\n",
      "In 1984, ALONZO C. BABERS won for USA.\n",
      "In 1984, VALERIE ANN BRISCO-HOOKS won for USA.\n",
      "In 1984, EDWIN MOSES won for USA.\n",
      "In 1984, NAWAL EL MOUTAWAKEL won for MAR.\n",
      "In 1988, STEVE LEWIS won for USA.\n",
      "In 1988, OLGA BRYZGINA won for URS.\n",
      "In 1988, ANDRE LAMAR PHILLIPS won for USA.\n",
      "In 1988, DEBORAH FLINTOFF-KING won for AUS.\n",
      "In 1992, QUINCY WATTS won for USA.\n",
      "In 1992, MARIE-JOSE PEREC won for FRA.\n",
      "In 1992, KEVIN CURTIS YOUNG won for USA.\n",
      "In 1992, SALLY JANET JANE GUNNELL won for GBR.\n",
      "In 1996, MICHAEL JOHNSON won for USA.\n",
      "In 1996, MARIE-JOSE PEREC won for FRA.\n",
      "In 1996, DERRICK ADKINS won for USA.\n",
      "In 1996, DEON MARIE HEMMINGS won for JAM.\n",
      "In 2000, MICHAEL JOHNSON won for USA.\n",
      "In 2000, CATHY FREEMAN won for AUS.\n",
      "In 2000, ANGELO TAYLOR won for USA.\n",
      "In 2000, IRINA PRIVALOVA won for RUS.\n",
      "In 2004, JEREMY WARINER won for USA.\n",
      "In 2004, TONIQUE WILLIAMS-DARLING won for BAH.\n",
      "In 2004, FELIX SANCHEZ won for DOM.\n",
      "In 2004, FANI CHALKIA won for GRE.\n",
      "In 2008, LASHAWN MERRITT won for USA.\n",
      "In 2008, CHRISTINE OHURUOGU won for GBR.\n",
      "In 2008, ANGELO TAYLOR won for USA.\n",
      "In 2008, MELAINE WALKER won for JAM.\n",
      "In 2012, SANYA RICHARDS-ROSS won for USA.\n",
      "In 2012, NATALYA ANTYUKH won for RUS.\n",
      "In 2012, KIRANI JAMES won for GRN.\n",
      "In 2012, FELIX SANCHEZ won for DOM.\n",
      "In 2016, KERRON CLEMENT won for USA.\n",
      "In 2016, SHAUNAE MILLER won for BAH.\n",
      "In 2016, DALILAH MUHAMMAD won for USA.\n",
      "In 2016, WAYDE VAN NIEKERK won for RSA.\n"
     ]
    }
   ],
   "source": [
    "# string building with f string\n",
    "for medal in medals:\n",
    "    if medal.event.startswith('400m'):\n",
    "        print(f'In {medal.year}, {medal.athlete.upper()} won for {medal.team}.')"
   ]
  },
  {
   "cell_type": "code",
   "execution_count": 9,
   "id": "769f0f71",
   "metadata": {},
   "outputs": [],
   "source": [
    "# using varags s in form of dictionary\n",
    "# given named tuple the getattr will return the value given name of the property\n",
    "def findmedals(**kwargs):\n",
    "    return [medal for medal in medals\n",
    "           if all(getattr(medal, key) == value \n",
    "                  for key, value in kwargs.items())]\n"
   ]
  },
  {
   "cell_type": "code",
   "execution_count": 10,
   "id": "89a1dcfc",
   "metadata": {},
   "outputs": [
    {
     "data": {
      "text/plain": [
       "[Medal(year='1996', athlete='Yelena Nikolayeva', team='RUS', event='10000m walk women'),\n",
       " Medal(year='1996', athlete='Svetlana Masterkova', team='RUS', event='1500m women'),\n",
       " Medal(year='1996', athlete='Svetlana Masterkova', team='RUS', event='800m women')]"
      ]
     },
     "execution_count": 10,
     "metadata": {},
     "output_type": "execute_result"
    }
   ],
   "source": [
    "findmedals(year='1996', team='RUS')"
   ]
  }
 ],
 "metadata": {
  "kernelspec": {
   "display_name": "Python 3 (ipykernel)",
   "language": "python",
   "name": "python3"
  },
  "language_info": {
   "codemirror_mode": {
    "name": "ipython",
    "version": 3
   },
   "file_extension": ".py",
   "mimetype": "text/x-python",
   "name": "python",
   "nbconvert_exporter": "python",
   "pygments_lexer": "ipython3",
   "version": "3.11.5"
  }
 },
 "nbformat": 4,
 "nbformat_minor": 5
}
