{
 "cells": [
  {
   "cell_type": "code",
   "execution_count": 1,
   "id": "7eb7e0a5",
   "metadata": {},
   "outputs": [],
   "source": [
    "from pathlib import Path\n",
    "from collections import defaultdict\n",
    "from multiprocess import Pool\n",
    "from string import punctuation, digits"
   ]
  },
  {
   "cell_type": "code",
   "execution_count": 2,
   "id": "5974217f",
   "metadata": {},
   "outputs": [],
   "source": [
    "def run_file(file):\n",
    "    data = defaultdict(list)\n",
    "    for pos, line in enumerate(open(file)):\n",
    "        for word in line.strip().split(\" \"):\n",
    "            word = word.translate(str.maketrans('','',punctuation+digits))\n",
    "            data[word].append((file, pos))\n",
    "    return data\n",
    "         \n",
    "def generate_file(path):\n",
    "    for path_object in path.rglob('*'):\n",
    "        if path_object.is_file():\n",
    "            yield path_object\n",
    "    return None\n"
   ]
  },
  {
   "cell_type": "code",
   "execution_count": 3,
   "id": "965d9977",
   "metadata": {},
   "outputs": [],
   "source": [
    "def seq_exec(path):\n",
    "    # sequerntial execution\n",
    "    vals = defaultdict(list)\n",
    "    for path_object in generate_file(path):\n",
    "        val_dict = run_file(path_object)\n",
    "        [vals[word].extend(values) for word, values in val_dict.items()]\n",
    "    return vals\n"
   ]
  },
  {
   "cell_type": "code",
   "execution_count": 4,
   "id": "1aba62a6",
   "metadata": {},
   "outputs": [],
   "source": [
    "def pooled_exec(path):\n",
    "    # sequerntial execution\n",
    "    vals = defaultdict(list)\n",
    "    results = []\n",
    "    with Pool(processes=4) as pool:\n",
    "        for path_object in generate_file(path):\n",
    "            results.append(pool.apply_async(run_file, [path_object]))\n",
    "              \n",
    "        for result in results:\n",
    "            result_vals = result.get()\n",
    "            [vals[word].extend(values) for word, values in result_vals.items()]\n",
    "    return vals"
   ]
  },
  {
   "cell_type": "code",
   "execution_count": 5,
   "id": "95cab78a",
   "metadata": {},
   "outputs": [],
   "source": [
    "root_directory = Path('files/sonnets')\n",
    "seq_vals = seq_exec(root_directory)\n",
    "pooled_vals = pooled_exec(root_directory)\n",
    "\n",
    "seq_info = [f\"{key}-{len(values)}\" for key, values in seq_vals.items()]\n",
    "pool_info = [f\"{key}-{len(values)}\" for key, values in pooled_vals.items()]\n",
    "assert sorted(seq_info) == sorted(pool_info), f\"not equa\\n{seq_info}\\n{pool_info}\"\n",
    "\n",
    "assert len(seq_vals.items()) == len(pooled_vals.items()), f\"Not same {len(seq_vals.items())},{len(pooled_vals.items())}\"\n"
   ]
  },
  {
   "cell_type": "code",
   "execution_count": null,
   "id": "7eb9debb",
   "metadata": {},
   "outputs": [],
   "source": [
    "%timeit pooled_exec(root_directory)\n",
    "\n",
    "%timeit seq_exec(root_directory)"
   ]
  }
 ],
 "metadata": {
  "kernelspec": {
   "display_name": "Python 3 (ipykernel)",
   "language": "python",
   "name": "python3"
  },
  "language_info": {
   "codemirror_mode": {
    "name": "ipython",
    "version": 3
   },
   "file_extension": ".py",
   "mimetype": "text/x-python",
   "name": "python",
   "nbconvert_exporter": "python",
   "pygments_lexer": "ipython3",
   "version": "3.11.5"
  }
 },
 "nbformat": 4,
 "nbformat_minor": 5
}
