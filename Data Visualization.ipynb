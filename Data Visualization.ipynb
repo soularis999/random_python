{
 "cells": [
  {
   "cell_type": "markdown",
   "id": "04a945cc",
   "metadata": {},
   "source": [
    "Three different types of data visualization\n",
    "\n",
    "* Data Story telling: The graph should be simple and maybe interactive but mostly used to tell a high level store for decision makers to understand what the story is about in someshort number of seconds.\n",
    "* Data showcasing: show a lot of data to analysts / data scientists / quants / researchers so that they can draw their own conclusions. Make data very contextual and can by more busy so people can get some value and opinions from it\n",
    "* Data Art: Creative and controvertial art based on data. The data art is good tool to inform general public / non technical people who might be swayed or conviced in one direction or another without requiring any specific technical knowledge. Example coule be a carecature of big creature eating small one and labels representing different forces or countries."
   ]
  },
  {
   "cell_type": "markdown",
   "id": "82d0c56d",
   "metadata": {},
   "source": [
    "Data Story telling:\n",
    "- Area Charts\n",
    "- Bar Charts\n",
    "- Line Charts\n",
    "- Pie Charts\n",
    "- Cloropleths\n",
    "- Point Maps\n"
   ]
  },
  {
   "cell_type": "markdown",
   "id": "09181069",
   "metadata": {},
   "source": [
    "Data Showcasing:\n",
    "- Area Charts\n",
    "- Bar Charts\n",
    "- Line Charts\n",
    "- Cloropleths\n",
    "- Point Maps\n",
    "- Histograms\n",
    "- Scatter Plots\n",
    "- Scatter Plot Matrices\n",
    "- Raster Maps"
   ]
  },
  {
   "cell_type": "markdown",
   "id": "5bf7d3ec",
   "metadata": {},
   "source": [
    "Data Art:\n",
    "- Line Charts\n",
    "- Graph Networks\n",
    "- Cloropleths\n",
    "- Something Weirf and Artistic"
   ]
  },
  {
   "cell_type": "markdown",
   "id": "016c6ddf",
   "metadata": {},
   "source": [
    "1. Make list of questions that your data visualization is meant to answer\n",
    "2. Who is the audiance to understand the type of visualization\n",
    "3. What graphic types are prefered for the visualization audience and type chosen\n",
    "4. Test different types and see which one is most clear and obvious"
   ]
  },
  {
   "cell_type": "markdown",
   "id": "c3971d52",
   "metadata": {},
   "source": [
    "Do not use a lot of color for color visualization\n"
   ]
  },
  {
   "cell_type": "markdown",
   "id": "fc2083af",
   "metadata": {},
   "source": [
    "How: add data on additional metrics that are relevant to the datasets you are showing, trading colors and annotations\n",
    "Why: meant to give audience some deeper perspective and insight into what's happening\n",
    "When: useful in data showcasing"
   ]
  }
 ],
 "metadata": {
  "kernelspec": {
   "display_name": "Python 3 (ipykernel)",
   "language": "python",
   "name": "python3"
  },
  "language_info": {
   "codemirror_mode": {
    "name": "ipython",
    "version": 3
   },
   "file_extension": ".py",
   "mimetype": "text/x-python",
   "name": "python",
   "nbconvert_exporter": "python",
   "pygments_lexer": "ipython3",
   "version": "3.11.5"
  }
 },
 "nbformat": 4,
 "nbformat_minor": 5
}
